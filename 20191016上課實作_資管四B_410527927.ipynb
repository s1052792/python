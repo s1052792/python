{
 "cells": [
  {
   "cell_type": "markdown",
   "metadata": {},
   "source": [
    "## 實作練習一"
   ]
  },
  {
   "cell_type": "code",
   "execution_count": 4,
   "metadata": {},
   "outputs": [
    {
     "name": "stdout",
     "output_type": "stream",
     "text": [
      "請輸入成績:100\n",
      "優等\n"
     ]
    }
   ],
   "source": [
    "score = input(\"請輸入成績:\")\n",
    "if(int(score)>=90):\n",
    "    print(\"優等\");\n",
    "elif(int(score)>=80):\n",
    "    print(\"甲等\");\n",
    "elif(int(score)>=70):\n",
    "    print(\"乙等\");\n",
    "elif(int(score)>=60):\n",
    "    print(\"丙等\");\n",
    "else:\n",
    "    print(\"丁等\");"
   ]
  },
  {
   "cell_type": "markdown",
   "metadata": {},
   "source": [
    "## 實作練習二"
   ]
  },
  {
   "cell_type": "code",
   "execution_count": 10,
   "metadata": {},
   "outputs": [
    {
     "name": "stdout",
     "output_type": "stream",
     "text": [
      "請輸入正整數10\n",
      "55\n"
     ]
    }
   ],
   "source": [
    "sum=0;\n",
    "\n",
    "n=int(input(\"請輸入正整數\"));\n",
    "\n",
    "for i in range(1,n+1):\n",
    "    sum+=i;\n",
    "    \n",
    "print(sum);"
   ]
  },
  {
   "cell_type": "markdown",
   "metadata": {},
   "source": [
    "## 實作練習五"
   ]
  },
  {
   "cell_type": "code",
   "execution_count": 19,
   "metadata": {},
   "outputs": [
    {
     "name": "stdout",
     "output_type": "stream",
     "text": [
      "請輸入正整數11\n",
      "1 2 3 4 6 7 8 9 11 "
     ]
    }
   ],
   "source": [
    "n=int(input(\"請輸入正整數\"));\n",
    "for i in range(1,n+1):\n",
    "    if(i%5==0):\n",
    "        continue;      \n",
    "    print (i,end=\" \");\n"
   ]
  },
  {
   "cell_type": "markdown",
   "metadata": {},
   "source": [
    "## 實作練習六"
   ]
  },
  {
   "cell_type": "code",
   "execution_count": 25,
   "metadata": {},
   "outputs": [
    {
     "name": "stdout",
     "output_type": "stream",
     "text": [
      "請輸入正整數5\n",
      "120\n"
     ]
    }
   ],
   "source": [
    "n=int(input(\"請輸入正整數\"));\n",
    "i=1\n",
    "sum=1\n",
    "\n",
    "while(i<=n):\n",
    "    sum*=i\n",
    "    i+=1\n",
    "print(sum) "
   ]
  }
 ],
 "metadata": {
  "kernelspec": {
   "display_name": "Python 3",
   "language": "python",
   "name": "python3"
  },
  "language_info": {
   "codemirror_mode": {
    "name": "ipython",
    "version": 3
   },
   "file_extension": ".py",
   "mimetype": "text/x-python",
   "name": "python",
   "nbconvert_exporter": "python",
   "pygments_lexer": "ipython3",
   "version": "3.7.4"
  }
 },
 "nbformat": 4,
 "nbformat_minor": 2
}
